{
 "cells": [
  {
   "cell_type": "code",
   "execution_count": 1,
   "id": "73e4d604",
   "metadata": {},
   "outputs": [],
   "source": [
    "import numpy as np\n",
    "import pandas as pd\n",
    "import statsmodels.api as sm\n",
    "from typing import List\n",
    "import warnings\n",
    "warnings.filterwarnings('ignore')"
   ]
  },
  {
   "cell_type": "code",
   "execution_count": 2,
   "id": "3777a60b",
   "metadata": {},
   "outputs": [],
   "source": [
    "game_2010 = pd.read_csv('./Dataset/Cleaned/cleaned_game_2010.csv')\n",
    "game_2014 = pd.read_csv('./Dataset/Cleaned/cleaned_game_2014.csv')\n",
    "game_2018 = pd.read_csv('./Dataset/Cleaned/cleaned_game_2018.csv')\n",
    "\n",
    "games = pd.concat([game_2010, game_2014, game_2018])\n",
    "games = games.reset_index()\n",
    "games.to_csv('./Dataset/cleaned/cleaned_games_total.csv')"
   ]
  },
  {
   "cell_type": "markdown",
   "id": "2db319d8",
   "metadata": {},
   "source": [
    "### Data Preprocessing\n",
    "* Change the information of each columns to the offset of its value with the opponent's value  \n",
    "* Use forward and backward selection for feature selection"
   ]
  },
  {
   "cell_type": "code",
   "execution_count": 3,
   "id": "fe1330eb",
   "metadata": {},
   "outputs": [],
   "source": [
    "# will drop the goals, because its obvious if one team have more goals than other, that team will win 100 percent.\n",
    "games = games.drop(columns=['goals'])\n",
    "\n",
    "# for index, row in games.iterrows():\n",
    "\n",
    "for i in range(0,len(games),2):\n",
    "    temp = games.iloc[i, 4:-1]\n",
    "    games.iloc[i, 4:-1] = games.iloc[i, 4:-1] - games.iloc[i+1, 4:-1]\n",
    "    games.iloc[i+1,4:-1] = games.iloc[i+1,4:-1] - temp \n",
    "    \n",
    "games.to_csv('./Dataset/cleaned/cleaned_games_offset_total.csv')"
   ]
  },
  {
   "cell_type": "code",
   "execution_count": 4,
   "id": "4c89ccc3",
   "metadata": {},
   "outputs": [],
   "source": [
    "X = games.iloc[:,4:-1]\n",
    "y = games.iloc[:, -1]"
   ]
  },
  {
   "cell_type": "code",
   "execution_count": 5,
   "id": "513e7e02",
   "metadata": {},
   "outputs": [],
   "source": [
    "from sklearn.preprocessing import StandardScaler\n",
    "from sklearn.pipeline import Pipeline\n",
    "from sklearn.model_selection import train_test_split, GridSearchCV\n",
    "from sklearn.linear_model import Lasso"
   ]
  },
  {
   "cell_type": "code",
   "execution_count": 6,
   "id": "28d99e1b",
   "metadata": {},
   "outputs": [],
   "source": [
    "X_train, X_test, y_train, y_test = train_test_split(X, y, test_size=0.3, random_state=0)"
   ]
  },
  {
   "cell_type": "code",
   "execution_count": 7,
   "id": "6ba89f18",
   "metadata": {},
   "outputs": [],
   "source": [
    "object = StandardScaler()\n",
    "X_train = object.fit_transform(X_train)"
   ]
  },
  {
   "cell_type": "code",
   "execution_count": 8,
   "id": "dbaa5e49",
   "metadata": {},
   "outputs": [],
   "source": [
    "def forward_selection(\n",
    "        data: pd.DataFrame, target: pd.Series, significance_level: float = 0.05\n",
    "    ) -> List[str]:  # 9 pts\n",
    "        \"\"\"\n",
    "        Args:\n",
    "            data: (pandas data frame) contains the feature matrix\n",
    "            target: (pandas series) represents target feature to search to generate significant features\n",
    "            significance_level: (float) threshold to reject the null hypothesis\n",
    "        Return:\n",
    "            forward_list: (python list) contains significant features. Each feature\n",
    "            name is a string\n",
    "        \"\"\"\n",
    "\n",
    "        forwards = []\n",
    "        originals = data.columns.tolist()\n",
    "        num_features = len(originals)\n",
    "\n",
    "        if num_features == 0:\n",
    "            return forwards\n",
    "\n",
    "        while True:\n",
    "            left = list(set(originals) - set(forwards))\n",
    "            p_value = pd.Series(index = left)\n",
    "            for i in left:\n",
    "                bias_added = sm.add_constant(data[forwards+[i]])\n",
    "                p_value[i] = (sm.OLS(target, bias_added).fit()).pvalues[i]\n",
    "            if p_value.min() < significance_level:\n",
    "                forwards.append(p_value.idxmin())\n",
    "            else:\n",
    "                break\n",
    "\n",
    "        return forwards"
   ]
  },
  {
   "cell_type": "code",
   "execution_count": 9,
   "id": "a0618077",
   "metadata": {},
   "outputs": [],
   "source": [
    "def backward_elimination(\n",
    "        data: pd.DataFrame, target: pd.Series, significance_level: float = 0.05\n",
    "    ) -> List[str]:  # 9 pts\n",
    "        \"\"\"\n",
    "        Args:\n",
    "            data: (pandas data frame) contains the feature matrix\n",
    "            target: (pandas series) represents target feature to search to generate significant features\n",
    "            significance_level: (float) threshold to reject the null hypothesis\n",
    "        Return:\n",
    "            backward_list: (python list) contains significant features. Each feature\n",
    "            name is a string\n",
    "        \"\"\"\n",
    "        originals = data.columns.tolist()\n",
    "        if len(originals) == 0:\n",
    "            return originals\n",
    "        while True:\n",
    "            bias_added = sm.add_constant(data[originals])\n",
    "            p_value = sm.OLS(target, bias_added).fit()\n",
    "            p_value = p_value.pvalues[1:]\n",
    "            if p_value.max() <= significance_level:\n",
    "                break\n",
    "            originals.remove(p_value.idxmax())\n",
    "        \n",
    "        return originals"
   ]
  },
  {
   "cell_type": "code",
   "execution_count": 10,
   "id": "503a5562",
   "metadata": {},
   "outputs": [],
   "source": [
    "X_train = pd.DataFrame(X_train, columns = X.columns)\n",
    "X_train = X_train.reset_index()\n",
    "y_train = y_train.reset_index()\n",
    "y_train = y_train['result']"
   ]
  },
  {
   "cell_type": "code",
   "execution_count": 12,
   "id": "fd9bcbcd",
   "metadata": {},
   "outputs": [
    {
     "name": "stdout",
     "output_type": "stream",
     "text": [
      "['FW_on-target', 'FW_time on opposite half', 'DF_mid activity', 'FW_passes_succeed', 'MF_fouls suffered', 'GK_total passes', 'MF_on-target', 'DF_red', 'MF_red', 'GK_low activity', 'DF_avg max speed', 'MF_distance', 'DF_on-target', 'FW_sprints', 'DF_distance in poss', 'DF_total passes', 'MF_total shots', 'GK_mid activity', 'GK_fouls suffered', 'DF_yellow', 'FW_mid activity', 'GK_avg max speed', 'DF_time on opposite pen', 'MF_time on opposite third', 'MF_time on opposite pen', 'MF_time on opposite half', 'FW_tackles gaining ball', 'MF_passes accuracy']\n",
      "['GK_total passes', 'GK_fouls suffered', 'GK_avg max speed', 'GK_low activity', 'GK_yellow', 'DF_passes_succeed', 'DF_total passes', 'DF_on-target', 'DF_fouls committed', 'DF_distance in poss', 'DF_distance not in poss', 'DF_sprints', 'DF_avg max speed', 'DF_yellow', 'DF_red', 'MF_passes_succeed', 'MF_total passes', 'MF_passes accuracy', 'MF_total shots', 'MF_on-target', 'MF_fouls committed', 'MF_fouls suffered', 'MF_distance', 'MF_time on opposite half', 'MF_time on opposite third', 'MF_time on opposite pen', 'FW_on-target', 'FW_fouls suffered', 'FW_distance in poss', 'FW_time on opposite half', 'FW_time on opposite third', 'FW_low activity', 'FW_tackles gaining ball']\n"
     ]
    }
   ],
   "source": [
    "forward_selected_list = forward_selection(X_train,y_train, significance_level = 0.05)\n",
    "backward_selected_list = backward_elimination(X_train,y_train, significance_level = 0.05)\n",
    "\n",
    "X_forward = games[forward_selected_list]\n",
    "X_backward = games[backward_selected_list]\n",
    "\n",
    "print(forward_selected_list)\n",
    "print(backward_selected_list)"
   ]
  }
 ],
 "metadata": {
  "kernelspec": {
   "display_name": "Python 3 (ipykernel)",
   "language": "python",
   "name": "python3"
  },
  "language_info": {
   "codemirror_mode": {
    "name": "ipython",
    "version": 3
   },
   "file_extension": ".py",
   "mimetype": "text/x-python",
   "name": "python",
   "nbconvert_exporter": "python",
   "pygments_lexer": "ipython3",
   "version": "3.9.12"
  }
 },
 "nbformat": 4,
 "nbformat_minor": 5
}
