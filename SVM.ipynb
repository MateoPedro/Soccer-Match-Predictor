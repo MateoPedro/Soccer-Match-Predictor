{
  "cells": [
    {
      "cell_type": "code",
      "source": [
        "import pandas as pd\n",
        "import numpy as np\n",
        "\n",
        "from sklearn.model_selection import train_test_split\n",
        "from sklearn.metrics import confusion_matrix\n",
        "from sklearn.preprocessing import StandardScaler\n",
        "from sklearn.svm import SVC\n",
        "from sklearn.decomposition import PCA\n",
        "\n",
        "import matplotlib.pyplot as plt"
      ],
      "metadata": {
        "id": "2mpx0kqJzD3q"
      },
      "execution_count": 117,
      "outputs": []
    },
    {
      "cell_type": "code",
      "execution_count": 118,
      "metadata": {
        "id": "Q1L19ewu4Z1K"
      },
      "outputs": [],
      "source": [
        "games = pd.read_csv('./Dataset/Cleaned/cleaned_games_offset_total.csv')"
      ]
    },
    {
      "cell_type": "code",
      "execution_count": 119,
      "metadata": {
        "id": "RodbFTbU4TmS"
      },
      "outputs": [],
      "source": [
        "def show_confusion_matrix(matrix, target, accuracy_score, title):\n",
        "\n",
        "    plt.figure(figsize=(5,5))\n",
        "    plt.imshow(matrix, interpolation='nearest', cmap=plt.cm.Oranges)\n",
        "\n",
        "    matrix = matrix.astype('float')/matrix.sum(axis=1)[:,np.newaxis]\n",
        "\n",
        "    N, D = matrix.shape\n",
        "    for n in range(N):\n",
        "      for d in range(D):\n",
        "        plt.text(d, n, \"{:0.4f}\".format(matrix[n, d]), horizontalalignment=\"center\")\n",
        "\n",
        "    plt.xlabel('Predicted\\naccuracy={:0.2f}'.format(accuracy_score))\n",
        "    plt.ylabel('Actual')\n",
        "    plt.title(title)\n",
        "    plt.show()"
      ]
    },
    {
      "cell_type": "markdown",
      "metadata": {
        "id": "h3qXuaWf7EkU"
      },
      "source": [
        "## SVM\n",
        "- Used the features resulted from backward elimination\n",
        "- Splited the data into 30% testing and 70% training data"
      ]
    },
    {
      "cell_type": "markdown",
      "metadata": {
        "id": "I8G4UtPRWbhL"
      },
      "source": [
        "↓SVM for ternary classification"
      ]
    },
    {
      "cell_type": "code",
      "execution_count": 120,
      "metadata": {
        "id": "WsaKDHSAkbvX"
      },
      "outputs": [],
      "source": [
        "backward_selected_list = np.sort(['GK_total passes', 'GK_fouls suffered', 'GK_avg max speed', 'GK_low activity',\n",
        "                                  'GK_mid activity', 'GK_high activity', 'GK_yellow', 'DF_passes_succeed', 'DF_total passes',\n",
        "                                  'DF_passes accuracy', 'DF_on-target', 'DF_fouls suffered', 'DF_distance', 'DF_distance in poss',\n",
        "                                  'DF_avg max speed', 'DF_low activity', 'DF_mid activity', 'DF_high activity', 'DF_red',\n",
        "                                  'DF_tackles suffered losing ball', 'MF_passes_succeed', 'MF_total passes', 'MF_passes accuracy',\n",
        "                                  'MF_total shots', 'MF_on-target', 'MF_time on opposite half', 'MF_time on opposite third',\n",
        "                                  'MF_time on opposite pen', 'MF_avg max speed', 'MF_tackles gaining ball', 'FW_total passes',\n",
        "                                  'FW_total shots', 'FW_on-target', 'FW_fouls committed', 'FW_fouls suffered', 'FW_time on opposite half',\n",
        "                                  'FW_time on opposite third', 'FW_low activity', 'FW_yellow'])\n",
        "\n",
        "# dataset\n",
        "X = games[backward_selected_list]\n",
        "y = games[\"result\"]\n",
        "\n",
        "# split training data and testing data (random_state is a random seed)\n",
        "X_train, X_test, y_train, y_test = train_test_split(X, y, test_size=0.3, random_state=0)\n",
        "\n",
        "# standardize\n",
        "scaler = StandardScaler()\n",
        "\n",
        "scaler.fit(X_train)\n",
        "X_train = scaler.transform(X_train)\n",
        "X_test = scaler.transform(X_test)\n",
        "\n",
        "svc = SVC(kernel='linear', C=2).fit(X_train,y_train)"
      ]
    },
    {
      "cell_type": "markdown",
      "metadata": {
        "id": "sy0oBA2Y1g1x"
      },
      "source": [
        "↓Figure 1: Confusion Matrix(ternary classification)"
      ]
    },
    {
      "cell_type": "code",
      "execution_count": 121,
      "metadata": {
        "colab": {
          "base_uri": "https://localhost:8080/",
          "height": 575
        },
        "id": "J_3cYj9U1aOl",
        "outputId": "f89a95a9-33bd-4737-8e8c-abb05ac74609"
      },
      "outputs": [
        {
          "output_type": "stream",
          "name": "stdout",
          "text": [
            "Prediction:\n",
            "[-1  0  1  1  0 -1  0  1  0  1  1  0 -1  0  1  1  1 -1  1 -1  1  1  1  1\n",
            "  1  1  0 -1  0  1 -1 -1 -1 -1  0  1  0  1 -1  1 -1 -1 -1 -1 -1 -1 -1 -1\n",
            "  1  0 -1  0 -1 -1  1  1 -1 -1  0  1  1  1  1  1 -1  1  1  0  0 -1  1  0\n",
            " -1  1 -1  1 -1  1  1 -1 -1  1  1 -1  0 -1  0 -1  0  1  1  1  1 -1  0  1\n",
            " -1  1  1  0 -1  1  0  0 -1  0  0 -1  1  0 -1 -1 -1 -1  1 -1]\n",
            "True labels:\n",
            "[-1  1  1  1  1  0  1  1 -1  1  1  0  0  1  0  1  1 -1  1  1  1  0  1  1\n",
            "  1  1  1 -1  1  1  0 -1 -1 -1  0  1  0  0 -1  1 -1 -1 -1  1 -1  0 -1 -1\n",
            "  0 -1  0  1 -1 -1  1  1 -1  0 -1  1  1  0  1  1 -1  0  1 -1  1 -1  0 -1\n",
            " -1  1 -1 -1 -1  1  0  0 -1  0  0 -1  0 -1  1 -1  1  1 -1  0  1  0  0  1\n",
            " -1  1  1  1 -1  1 -1  0 -1 -1  0 -1  1  0  0 -1 -1 -1  1 -1]\n"
          ]
        },
        {
          "output_type": "display_data",
          "data": {
            "text/plain": [
              "<Figure size 360x360 with 1 Axes>"
            ],
            "image/png": "[encoded data removed]"
          },
          "metadata": {
            "needs_background": "light"
          }
        }
      ],
      "source": [
        "y_pred = svc.predict(X_test)\n",
        "cm = confusion_matrix(y_test, y_pred)\n",
        "\n",
        "print(\"Prediction:\")\n",
        "print(y_pred)\n",
        "print(\"True labels:\")\n",
        "print(np.array(y_test))\n",
        "show_confusion_matrix(cm, ['Lose', 'Tie', 'Win'], svc.score(X_test, y_test), \"Confusion Matrix\")"
      ]
    },
    {
      "cell_type": "markdown",
      "source": [
        "## Applied PCA to the dataset before performing binary classification"
      ],
      "metadata": {
        "id": "9ulUelo0_S6J"
      }
    },
    {
      "cell_type": "markdown",
      "source": [
        "↓PCA to the dataset, and SVM for binary classification"
      ],
      "metadata": {
        "id": "FUuHOPW7-bYK"
      }
    },
    {
      "cell_type": "code",
      "source": [
        "# dataset\n",
        "X = games[np.flip(backward_selected_list)]\n",
        "y = games['result']\n",
        "y[y == 0] = -1\n",
        "\n",
        "# standardize\n",
        "scaler = StandardScaler().fit_transform(X)\n",
        "\n",
        "# perform PCA(Principal Component Analysis) with 90% of variance\n",
        "pca = PCA(.90)\n",
        "\n",
        "X_pca = pca.fit_transform(scaler)\n",
        "y_pca = y\n",
        "\n",
        "# split training data and testing data (random_state is a random seed)\n",
        "X_train, X_test, y_train, y_test = train_test_split(X_pca, y_pca, test_size=0.3)\n",
        "\n",
        "# train\n",
        "svc = SVC().fit(X_train, y_train)"
      ],
      "metadata": {
        "id": "wxPRHtBn84T3",
        "outputId": "21adf3bc-4030-4b40-b9c7-d17b2ecbd759",
        "colab": {
          "base_uri": "https://localhost:8080/"
        }
      },
      "execution_count": 143,
      "outputs": [
        {
          "output_type": "stream",
          "name": "stderr",
          "text": [
            "<ipython-input-143-8eadece15a21>:4: SettingWithCopyWarning: \n",
            "A value is trying to be set on a copy of a slice from a DataFrame\n",
            "\n",
            "See the caveats in the documentation: https://pandas.pydata.org/pandas-docs/stable/user_guide/indexing.html#returning-a-view-versus-a-copy\n",
            "  y[y == 0] = -1\n"
          ]
        }
      ]
    },
    {
      "cell_type": "markdown",
      "metadata": {
        "id": "oOoLYFaUYun7"
      },
      "source": [
        "↓Figure 2: Confusion Matrix(binary classification)"
      ]
    },
    {
      "cell_type": "code",
      "execution_count": 144,
      "metadata": {
        "colab": {
          "base_uri": "https://localhost:8080/",
          "height": 575
        },
        "id": "EBhsKwoOYyEF",
        "outputId": "4c8f8f8a-d70d-41eb-b7b6-96b88e626508"
      },
      "outputs": [
        {
          "output_type": "stream",
          "name": "stdout",
          "text": [
            "Prediction:\n",
            "[-1 -1  1  1 -1  1 -1  1 -1  1  1 -1 -1  1 -1  1 -1 -1 -1  1 -1 -1 -1 -1\n",
            " -1 -1 -1 -1 -1 -1  1  1  1  1 -1 -1 -1 -1  1 -1  1 -1 -1 -1  1 -1  1 -1\n",
            " -1 -1 -1 -1 -1 -1 -1  1 -1  1 -1 -1  1 -1 -1  1 -1  1 -1 -1 -1 -1  1 -1\n",
            "  1 -1 -1 -1  1 -1 -1 -1 -1 -1  1 -1 -1  1 -1  1 -1 -1 -1  1 -1 -1 -1 -1\n",
            "  1 -1  1 -1 -1 -1 -1  1 -1 -1 -1 -1 -1  1  1  1 -1  1  1  1]\n",
            "True labels:\n",
            "[ 1 -1 -1  1 -1  1  1  1 -1  1  1 -1 -1 -1 -1  1 -1 -1 -1  1 -1 -1 -1 -1\n",
            " -1 -1  1 -1 -1 -1 -1  1  1 -1  1 -1 -1 -1  1  1  1 -1  1 -1  1 -1  1 -1\n",
            " -1 -1 -1 -1 -1 -1 -1  1 -1  1 -1 -1 -1  1 -1  1 -1  1  1 -1 -1 -1  1 -1\n",
            "  1  1 -1 -1  1 -1 -1 -1 -1 -1  1  1 -1  1 -1  1 -1  1 -1 -1  1 -1 -1  1\n",
            "  1  1  1 -1  1  1  1  1 -1 -1  1 -1  1  1  1  1 -1  1  1  1]\n"
          ]
        },
        {
          "output_type": "display_data",
          "data": {
            "text/plain": [
              "<Figure size 360x360 with 1 Axes>"
            ],
            "image/png": "[encoded data removed]"
          },
          "metadata": {
            "needs_background": "light"
          }
        }
      ],
      "source": [
        "svc.predict(X_train)\n",
        "y_pred = svc.predict(X_test)\n",
        "cm = confusion_matrix(y_test, y_pred)\n",
        "\n",
        "print(\"Prediction:\")\n",
        "print(y_pred)\n",
        "print(\"True labels:\")\n",
        "print(np.array(y_test))\n",
        "show_confusion_matrix(cm, ['Lose', 'Win'], svc.score(X_test, y_test), 'Confusion Matrix')"
      ]
    }
  ],
  "metadata": {
    "colab": {
      "provenance": []
    },
    "kernelspec": {
      "display_name": "Python 3",
      "name": "python3"
    },
    "language_info": {
      "name": "python"
    }
  },
  "nbformat": 4,
  "nbformat_minor": 0
}