{
 "cells": [
  {
   "cell_type": "code",
   "execution_count": 1,
   "metadata": {
    "id": "_QrVJq8-acsh"
   },
   "outputs": [],
   "source": [
    "import pandas as pd\n",
    "import numpy as np\n",
    "\n",
    "from sklearn.model_selection import train_test_split\n",
    "from sklearn.metrics import confusion_matrix\n",
    "from sklearn.preprocessing import StandardScaler"
   ]
  },
  {
   "cell_type": "code",
   "execution_count": 2,
   "metadata": {
    "id": "Q1L19ewu4Z1K"
   },
   "outputs": [],
   "source": [
    "games = pd.read_csv('./Dataset/Cleaned/cleaned_games_offset_total.csv')"
   ]
  },
  {
   "cell_type": "code",
   "execution_count": 3,
   "metadata": {
    "id": "9DQvj5zyNU9L"
   },
   "outputs": [],
   "source": [
    "def show_confusion_matrix(matrix, target, accuracy_score):\n",
    "    import matplotlib.pyplot as plt\n",
    "\n",
    "    plt.figure(figsize=(5,5))\n",
    "    plt.imshow(matrix, interpolation='nearest', cmap=plt.cm.Oranges)\n",
    "\n",
    "    matrix = matrix.astype('float')/matrix.sum(axis=1)[:,np.newaxis]\n",
    "\n",
    "    N, D = matrix.shape\n",
    "    for n in range(N):\n",
    "      for d in range(D):\n",
    "        plt.text(d, n, \"{:0.4f}\".format(matrix[n, d]), horizontalalignment=\"center\")\n",
    "\n",
    "    plt.xlabel('Predicted\\naccuracy={:0.2f}'.format(accuracy_score))\n",
    "    plt.ylabel('Actual')\n",
    "    plt.title('Confusion Matrix')\n",
    "    plt.show()"
   ]
  },
  {
   "cell_type": "code",
   "execution_count": 7,
   "metadata": {
    "colab": {
     "base_uri": "https://localhost:8080/",
     "height": 611
    },
    "id": "qgnRygzhoEZ1",
    "outputId": "7f003f0e-1750-45d1-bed5-0fa5238f1b1a"
   },
   "outputs": [
    {
     "name": "stdout",
     "output_type": "stream",
     "text": [
      "Result for Linear Regression: Forward Selection\n",
      "Prediction\n",
      "[-1  1  0  0  0  0  0  1  0  1  0  0 -1  0  1  0  0 -1  1  0  0  1  0  0\n",
      "  1  1  0 -1  0  0  0  0 -1 -1  0  1 -1  1 -1  1 -1 -1  0  0 -1  0 -1  0\n",
      "  1  0 -1  0 -1 -1  1  1 -1  0  0  0  1  0  0  0 -1  0  1  0  0 -1  1  0\n",
      "  0  1 -1  0 -1  1  0 -1  0  1  0 -1  0 -1  0 -1  0  0  0  1  1  0  0  1\n",
      " -1  1  1  0  0  0  0  0  0  0  0  0  1  0  0 -1  0 -1  1 -1]\n",
      "True\n",
      "[-1  1  1  1  1  0  1  1 -1  1  1  0  0  1  0  1  1 -1  1  1  1  0  1  1\n",
      "  1  1  1 -1  1  1  0 -1 -1 -1  0  1  0  0 -1  1 -1 -1 -1  1 -1  0 -1 -1\n",
      "  0 -1  0  1 -1 -1  1  1 -1  0 -1  1  1  0  1  1 -1  0  1 -1  1 -1  0 -1\n",
      " -1  1 -1 -1 -1  1  0  0 -1  0  0 -1  0 -1  1 -1  1  1 -1  0  1  0  0  1\n",
      " -1  1  1  1 -1  1 -1  0 -1 -1  0 -1  1  0  0 -1 -1 -1  1 -1]\n",
      "Testing accuracy: 0.53\n"
     ]
    },
    {
     "data": {
      "image/png": "[encoded data removed]",
      "text/plain": [
       "<Figure size 360x360 with 1 Axes>"
      ]
     },
     "metadata": {
      "needs_background": "light"
     },
     "output_type": "display_data"
    }
   ],
   "source": [
    "from sklearn.linear_model import LinearRegression\n",
    "from sklearn.metrics import accuracy_score\n",
    "\n",
    "# Linear Regression: Forward Selection\n",
    "forward_selected_list = np.sort(['FW_on-target', 'FW_time on opposite half', 'GK_distance in poss', 'GK_low activity',\n",
    "                         'DF_avg max speed', 'DF_red', 'FW_total passes', 'MF_on-target', 'GK_total passes',\n",
    "                         'DF_on-target', 'MF_red', 'MF_fouls suffered', 'MF_passes accuracy', 'FW_fouls suffered',\n",
    "                         'FW_low activity', 'FW_distance not in poss', 'FW_sprints', 'GK_passes_succeed', 'GK_saves',\n",
    "                         'GK_yellow', 'GK_time on opposite third', 'DF_yellow', 'MF_tackles suffered losing ball',\n",
    "                         'GK_fouls suffered', 'FW_distance', 'DF_total passes', 'DF_distance in poss',\n",
    "                         'DF_tackles suffered losing ball', 'MF_tackles gaining ball', 'GK_avg max speed',\n",
    "                         'MF_time on opposite pen', 'MF_time on opposite third', 'MF_time on opposite half', 'FW_total shots'])\n",
    "\n",
    "X = games[forward_selected_list]\n",
    "y = games[\"result\"]\n",
    "\n",
    "# split training data and testing data\n",
    "X_train, X_test, y_train, y_test = train_test_split(X, y, test_size=0.3, random_state=0)\n",
    "\n",
    "# standardize\n",
    "scaler = StandardScaler()\n",
    "\n",
    "scaler.fit(X_train)\n",
    "X_train = scaler.transform(X_train)\n",
    "X_test = scaler.transform(X_test)\n",
    "\n",
    "# train\n",
    "linear_regression = LinearRegression()\n",
    "linear_regression.fit(X_train, y_train)\n",
    "\n",
    "# test\n",
    "prediction = np.round(linear_regression.predict(X_test)).astype(int)\n",
    "prediction[prediction <= -0.5] = -1\n",
    "prediction[prediction >= 0.5] = 1\n",
    "\n",
    "print(\"Result for Linear Regression: Forward Selection\")\n",
    "print(\"Prediction\")\n",
    "print(prediction)\n",
    "print(\"True\")\n",
    "print(np.array(y_test))\n",
    "print(\"Testing accuracy: %.2f\" % (accuracy_score(y_test, prediction)))\n",
    "\n",
    "show_confusion_matrix(confusion_matrix(y_test, prediction), ['Lose', 'Tie', 'Win'], accuracy_score(y_test, prediction))"
   ]
  },
  {
   "cell_type": "code",
   "execution_count": 9,
   "metadata": {
    "colab": {
     "base_uri": "https://localhost:8080/",
     "height": 611
    },
    "id": "arniZlZMsisL",
    "outputId": "747e623e-f828-416e-ca55-f0fc327d6ffb"
   },
   "outputs": [
    {
     "name": "stdout",
     "output_type": "stream",
     "text": [
      "Result for Linear Regression: Backward Elimination\n",
      "Prediction\n",
      "[-1  0  1  0  0  0  0  1  0  0  0  0  0  1  0  0  0  0  1  0  0  1  0  0\n",
      "  1  1  0 -1  0  1  0 -1 -1 -1  0  1  0  1 -1  0 -1 -1  0  0 -1  0 -1  0\n",
      "  1  0  0  1 -1 -1  1  1 -1  1  0  1  1  1  0  0 -1  0  1  0  0 -1  0  0\n",
      "  0  1 -1  0 -1  1  0 -1  0  1  0 -1  0 -1  0  0  0  1  0  0  1 -1  0  1\n",
      " -1  1  1  0 -1  1 -1  0  0  0  0  0  1  0  0 -1  0 -1  1 -1]\n",
      "True\n",
      "[-1  1  1  1  1  0  1  1 -1  1  1  0  0  1  0  1  1 -1  1  1  1  0  1  1\n",
      "  1  1  1 -1  1  1  0 -1 -1 -1  0  1  0  0 -1  1 -1 -1 -1  1 -1  0 -1 -1\n",
      "  0 -1  0  1 -1 -1  1  1 -1  0 -1  1  1  0  1  1 -1  0  1 -1  1 -1  0 -1\n",
      " -1  1 -1 -1 -1  1  0  0 -1  0  0 -1  0 -1  1 -1  1  1 -1  0  1  0  0  1\n",
      " -1  1  1  1 -1  1 -1  0 -1 -1  0 -1  1  0  0 -1 -1 -1  1 -1]\n",
      "Testing accuracy: 0.59\n"
     ]
    },
    {
     "data": {
      "image/png": "[encoded data removed]",
      "text/plain": [
       "<Figure size 360x360 with 1 Axes>"
      ]
     },
     "metadata": {
      "needs_background": "light"
     },
     "output_type": "display_data"
    }
   ],
   "source": [
    "# Linear Regression: Backward Elimination\n",
    "backward_selected_list = np.sort(['GK_total passes', 'GK_fouls suffered', 'GK_avg max speed', 'GK_low activity',\n",
    "                                  'GK_mid activity', 'GK_high activity', 'GK_yellow', 'DF_passes_succeed', 'DF_total passes',\n",
    "                                  'DF_passes accuracy', 'DF_on-target', 'DF_fouls suffered', 'DF_distance', 'DF_distance in poss',\n",
    "                                  'DF_avg max speed', 'DF_low activity', 'DF_mid activity', 'DF_high activity', 'DF_red',\n",
    "                                  'DF_tackles suffered losing ball', 'MF_passes_succeed', 'MF_total passes', 'MF_passes accuracy',\n",
    "                                  'MF_total shots', 'MF_on-target', 'MF_time on opposite half', 'MF_time on opposite third',\n",
    "                                  'MF_time on opposite pen', 'MF_avg max speed', 'MF_tackles gaining ball', 'FW_total passes',\n",
    "                                  'FW_total shots', 'FW_on-target', 'FW_fouls committed', 'FW_fouls suffered', 'FW_time on opposite half',\n",
    "                                  'FW_time on opposite third', 'FW_low activity', 'FW_saves', 'FW_yellow'])\n",
    "\n",
    "X = games[backward_selected_list]\n",
    "y = games[\"result\"]\n",
    "\n",
    "# split training data and testing data\n",
    "X_train, X_test, y_train, y_test = train_test_split(X, y, test_size=0.3, random_state=0)\n",
    "\n",
    "# standardize\n",
    "scaler = StandardScaler()\n",
    "\n",
    "scaler.fit(X_train)\n",
    "X_train = scaler.transform(X_train)\n",
    "X_test = scaler.transform(X_test)\n",
    "\n",
    "# train\n",
    "linear_regression = LinearRegression()\n",
    "linear_regression.fit(X_train, y_train)\n",
    "\n",
    "# test\n",
    "prediction = np.round(linear_regression.predict(X_test)).astype(int)\n",
    "prediction[prediction <= -0.5] = -1\n",
    "prediction[prediction >= 0.5] = 1\n",
    "\n",
    "print(\"Result for Linear Regression: Backward Elimination\")\n",
    "print(\"Prediction\")\n",
    "print(prediction)\n",
    "print(\"True\")\n",
    "print(np.array(y_test))\n",
    "print(\"Testing accuracy: %.2f\" % (accuracy_score(y_test, prediction)))\n",
    "\n",
    "show_confusion_matrix(confusion_matrix(y_test, prediction), ['Lose', 'Tie', 'Win'], accuracy_score(y_test, prediction))"
   ]
  }
 ],
 "metadata": {
  "colab": {
   "collapsed_sections": [],
   "provenance": []
  },
  "kernelspec": {
   "display_name": "Python 3 (ipykernel)",
   "language": "python",
   "name": "python3"
  },
  "language_info": {
   "codemirror_mode": {
    "name": "ipython",
    "version": 3
   },
   "file_extension": ".py",
   "mimetype": "text/x-python",
   "name": "python",
   "nbconvert_exporter": "python",
   "pygments_lexer": "ipython3",
   "version": "3.9.12"
  }
 },
 "nbformat": 4,
 "nbformat_minor": 1
}
